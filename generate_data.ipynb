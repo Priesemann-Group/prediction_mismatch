{
 "cells": [
  {
   "cell_type": "markdown",
   "metadata": {},
   "source": [
    "## In this notebook we generate the data for the model update task.\n",
    "We partitioned the notebook in three parts\n",
    "1. Generation of the stimulus signal, both the bottom up as well as the top down stimulus.\n",
    "\n",
    "\n",
    "2. Generation of the network, in this step we can let the network if desired, for now we don't.\n",
    "3. Generation of the snapshots for final analysis."
   ]
  },
  {
   "cell_type": "code",
   "execution_count": 1,
   "metadata": {},
   "outputs": [],
   "source": [
    "\"\"\" Imports \"\"\" \n",
    "\n",
    "import numpy as np\n",
    "\n",
    "from src.signals import signal_context_switching_simple\n",
    "\n",
    "import pickle\n",
    "\n",
    "# Set random seed\n",
    "np.random.seed(42)\n"
   ]
  },
  {
   "cell_type": "markdown",
   "metadata": {},
   "source": [
    "# 1. Generation of the stimulus signal"
   ]
  },
  {
   "cell_type": "code",
   "execution_count": 2,
   "metadata": {},
   "outputs": [],
   "source": [
    "\"\"\" \n",
    "In this note we generate the the stimulus presented to the network\n",
    "We generate three different stimuli:\n",
    "    - The first is used to train the network \n",
    "        (signal_model_update.pickle)\n",
    "    - The second and third are used to test the network \n",
    "        (signal_model_update_snapshot.pickle and signal_model_update_snapshot_k.pickle)\n",
    "\n",
    "We plot the stimuli to give an indication of the task the network is trained on.\n",
    "\"\"\"\n",
    "\n",
    "dt = 0.001 #second\n",
    "x_duration = 1.5 #second\n",
    "\n",
    "prediction_offset = 0.1 #second\n",
    "T=12000 #time steps\n",
    "\n",
    "tau_stimulus = 0.2 #decay time of the stimulus\n",
    "\n",
    "\n",
    "\n",
    "# Signal for training\n",
    "t,bu,td,t1,t2 = signal_context_switching_simple(T, dt, x_duration, 1, prediction_offset,tau=tau_stimulus,k=0)\n",
    "\n",
    "with open(\"signal_model_update.pickle\", \"wb\") as file:\n",
    "    pickle.dump((t,bu,td,t1,t2),file)\n",
    "\n",
    "# Signal for snapshots\n",
    "# First one is a complete mismatch\n",
    "t,bu,td,t1,t2 = signal_context_switching_simple(int(8*x_duration/dt), dt, x_duration, 1, prediction_offset,tau=tau_stimulus, k=0)\n",
    "with open(\"signal_model_update_snapshot.pickle\", \"wb\") as file:\n",
    "    pickle.dump((t,bu,td,t1,t2),file)\n",
    "# Second one is a partial mismatch (30% change of the stimulus)\n",
    "t,bu,td,t1,t2 = signal_context_switching_simple(int(8*x_duration/dt), dt, x_duration, 1, prediction_offset,tau=tau_stimulus, k=0.3)\n",
    "with open(\"signal_model_update_snapshot_k.pickle\", \"wb\") as file:\n",
    "    pickle.dump((t,bu,td,t1,t2),file)\n"
   ]
  },
  {
   "cell_type": "markdown",
   "metadata": {},
   "source": [
    "# 2. Generate the network"
   ]
  },
  {
   "cell_type": "code",
   "execution_count": 3,
   "metadata": {},
   "outputs": [
    {
     "name": "stderr",
     "output_type": "stream",
     "text": [
      "100%|██████████| 12000/12000 [00:00<00:00, 17232.39it/s]\n"
     ]
    }
   ],
   "source": [
    "\"\"\" This section generates the trained network and saves it \"\"\"\n",
    "from src.run_network import init_network\n",
    "from src.network import Random_Network, Psi_base_mu, mu_inference_step_func, mu_inference_spiking_condition, mu_inference_Psi\n",
    "\n",
    "# Network definition\n",
    "\n",
    "d_stim = 3 #dimension of the bottom up stimulus\n",
    "d_cau = d_stim #dimension of the causal state\n",
    "d_td = 2 #dimension of the top down stimulus\n",
    "\n",
    "repetitions = 1 #number of repetitions of the stimulus\n",
    "\n",
    "n = 2*d_stim*repetitions #number of neurons\n",
    "\n",
    "log_nu= -2.61\n",
    "nu = np.exp(-log_nu) # In Hz\n",
    "tau=0.200 # Decay time of the neural representation in seconds\n",
    "\n",
    "context_switching_threshold = 0.20023594 #threshold for context switching\n",
    "\n",
    "Psi = Psi_base_mu(d_stim,d_td,d_cau,n,dt=dt) #initialize base network\n",
    "\n",
    "D_c = np.concatenate([np.eye(d_stim),-np.eye(d_stim)]).T*0.15 #Initialize D_c, the mapping from neural to causal state space\n",
    "\n",
    "D_x = np.eye(d_stim) #Initialize D_x, the mapping from causal to bottom up stimulus space\n",
    "D_td = np.array([ [1, 0], #Initialize D_td, the mapping from causal to top down stimulus space\n",
    "                  [0, 0],\n",
    "                  [0, 1]])\n",
    "\n",
    "beta = 300. #beta placeholder\n",
    "\n",
    "mu_inference_Psi(Psi,tau,nu=nu, delta_t=1, beta_x=beta,D_c=D_c, D_x = D_x, D_td = D_td, beta_c_low = 1.,beta_c_high=beta, context_switching_threshold=context_switching_threshold)\n",
    "inference_network = Random_Network(Psi, mu_inference_step_func, mu_inference_spiking_condition)\n",
    "\n",
    "init_network(inference_network)\n"
   ]
  },
  {
   "cell_type": "markdown",
   "metadata": {},
   "source": [
    "# 3. Run the network and generate snapshots"
   ]
  },
  {
   "cell_type": "code",
   "execution_count": 4,
   "metadata": {},
   "outputs": [
    {
     "name": "stdout",
     "output_type": "stream",
     "text": [
      " --- full mismatch --- \n"
     ]
    },
    {
     "name": "stderr",
     "output_type": "stream",
     "text": [
      "100%|██████████| 50/50 [00:40<00:00,  1.25it/s]\n"
     ]
    },
    {
     "name": "stdout",
     "output_type": "stream",
     "text": [
      " --- partial mismatch --- \n"
     ]
    },
    {
     "name": "stderr",
     "output_type": "stream",
     "text": [
      "100%|██████████| 50/50 [00:39<00:00,  1.26it/s]\n"
     ]
    }
   ],
   "source": [
    "from src.run_network import generate_network_snapshots\n",
    "\n",
    "generate_network_snapshots(nu,runs=50)\n"
   ]
  }
 ],
 "metadata": {
  "kernelspec": {
   "display_name": "Python 3",
   "language": "python",
   "name": "python3"
  },
  "language_info": {
   "codemirror_mode": {
    "name": "ipython",
    "version": 3
   },
   "file_extension": ".py",
   "mimetype": "text/x-python",
   "name": "python",
   "nbconvert_exporter": "python",
   "pygments_lexer": "ipython3",
   "version": "3.10.9"
  },
  "vscode": {
   "interpreter": {
    "hash": "e7370f93d1d0cde622a1f8e1c04877d8463912d04d973331ad4851f04de6915a"
   }
  }
 },
 "nbformat": 4,
 "nbformat_minor": 2
}
